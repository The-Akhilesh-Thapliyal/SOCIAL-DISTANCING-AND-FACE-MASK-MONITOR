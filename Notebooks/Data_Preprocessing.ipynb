{
 "cells": [
  {
   "cell_type": "markdown",
   "metadata": {},
   "source": [
    "# Data Preprocessing for CNN\n",
    "\n",
    "This notebook handles the preprocessing of image data for training a Convolutional Neural Network (CNN). The data consists of images that are categorized into folders and these images will be converted to grayscale, resized, normalized and labeled for use in a neural network.\n"
   ]
  },
  {
   "cell_type": "markdown",
   "metadata": {},
   "source": [
    "## Importing Required Libraries"
   ]
  },
  {
   "cell_type": "code",
   "execution_count": 1,
   "metadata": {},
   "outputs": [],
   "source": [
    "import cv2\n",
    "import os\n",
    "import numpy as np\n",
    "from keras.utils import np_utils"
   ]
  },
  {
   "cell_type": "markdown",
   "metadata": {},
   "source": [
    "## Setting Up the Data Path and Categories"
   ]
  },
  {
   "cell_type": "code",
   "execution_count": 2,
   "metadata": {},
   "outputs": [
    {
     "name": "stdout",
     "output_type": "stream",
     "text": [
      "Label Dictionary: {'with mask': 0, 'without mask': 1}\n",
      "Categories: ['with mask', 'without mask']\n",
      "Labels: [0, 1]\n"
     ]
    }
   ],
   "source": [
    "data_path = 'dataset'  # Path of the Dataset Folder\n",
    "categories = os.listdir(data_path)  # Storing the folder names\n",
    "labels = [i for i in range(len(categories))]  # Getting the class labels\n",
    "\n",
    "label_dict = dict(zip(categories, labels))\n",
    "\n",
    "print(\"Label Dictionary:\", label_dict)\n",
    "print(\"Categories:\", categories)\n",
    "print(\"Labels:\", labels)"
   ]
  },
  {
   "cell_type": "markdown",
   "metadata": {},
   "source": [
    "# Image Preprocessing"
   ]
  },
  {
   "cell_type": "code",
   "execution_count": 3,
   "metadata": {},
   "outputs": [],
   "source": [
    "img_size = 100  # Size of the image\n",
    "data = []  # List to store images\n",
    "target = []  # List to store target labels\n",
    "\n",
    "for category in categories:  # Processing each folder\n",
    "    folder_path = os.path.join(data_path, category)  # Path to the folder\n",
    "    img_names = os.listdir(folder_path)  # All image names in the folder\n",
    "    \n",
    "    for img_name in img_names:  # Processing each image\n",
    "        img_path = os.path.join(folder_path, img_name)  # Path to the image\n",
    "        img = cv2.imread(img_path)  # Reading the image\n",
    "        \n",
    "        try:\n",
    "            gray = cv2.cvtColor(img, cv2.COLOR_BGR2GRAY)  # Convert image to grayscale\n",
    "            resized = cv2.resize(gray, (img_size, img_size))  # Resize image to 100x100\n",
    "            \n",
    "            data.append(resized)  # Append the image data\n",
    "            target.append(label_dict[category])  # Append the corresponding label\n",
    "        \n",
    "        except Exception as e:\n",
    "            print('Exception:', e)  # Print exception if any"
   ]
  },
  {
   "cell_type": "markdown",
   "metadata": {},
   "source": [
    "# Normalizing and Reshaping Data"
   ]
  },
  {
   "cell_type": "code",
   "execution_count": 4,
   "metadata": {},
   "outputs": [],
   "source": [
    "data = np.array(data) / 255.0  # Normalize the images\n",
    "data = np.reshape(data, (data.shape[0], img_size, img_size, 1))  # Reshape data to 4D array\n",
    "target = np.array(target)  # Convert target to numpy array"
   ]
  },
  {
   "cell_type": "markdown",
   "metadata": {},
   "source": [
    "# Converting Labels to Categorical Format"
   ]
  },
  {
   "cell_type": "code",
   "execution_count": 5,
   "metadata": {},
   "outputs": [],
   "source": [
    "new_target = np_utils.to_categorical(target)  # Convert labels to categorical format"
   ]
  },
  {
   "cell_type": "markdown",
   "metadata": {},
   "source": [
    "# Saving the Preprocessed Data"
   ]
  },
  {
   "cell_type": "code",
   "execution_count": 6,
   "metadata": {},
   "outputs": [],
   "source": [
    "np.save('data', data)  # Save the data\n",
    "np.save('target', new_target)  # Save the target labels"
   ]
  }
 ],
 "metadata": {
  "kernelspec": {
   "display_name": "Python 3",
   "language": "python",
   "name": "python3"
  },
  "language_info": {
   "codemirror_mode": {
    "name": "ipython",
    "version": 3
   },
   "file_extension": ".py",
   "mimetype": "text/x-python",
   "name": "python",
   "nbconvert_exporter": "python",
   "pygments_lexer": "ipython3",
   "version": "3.8.0"
  }
 },
 "nbformat": 4,
 "nbformat_minor": 2
}
