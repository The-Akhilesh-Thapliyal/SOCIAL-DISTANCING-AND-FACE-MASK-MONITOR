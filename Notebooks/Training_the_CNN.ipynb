{
 "cells": [
  {
   "cell_type": "markdown",
   "metadata": {},
   "source": [
    "# Training the CNN"
   ]
  },
  {
   "cell_type": "markdown",
   "metadata": {},
   "source": [
    "## Training a CNN for Image Classification\n",
    "\n",
    "This notebook handles the training of a Convolutional Neural Network (CNN) on the preprocessed image data. The model will be trained to classify images into two categories.\n"
   ]
  },
  {
   "cell_type": "markdown",
   "metadata": {},
   "source": [
    "## Importing Required Libraries"
   ]
  },
  {
   "cell_type": "code",
   "execution_count": 1,
   "metadata": {},
   "outputs": [],
   "source": [
    "import numpy as np\n",
    "from keras.models import Sequential\n",
    "from keras.layers import Dense, Activation, Flatten, Dropout, Conv2D, MaxPooling2D\n",
    "from keras.callbacks import ModelCheckpoint\n",
    "from sklearn.model_selection import train_test_split\n",
    "from matplotlib import pyplot as plt"
   ]
  },
  {
   "cell_type": "markdown",
   "metadata": {},
   "source": [
    "## Loading Preprocessed Data"
   ]
  },
  {
   "cell_type": "code",
   "execution_count": 2,
   "metadata": {},
   "outputs": [],
   "source": [
    "data = np.load('data.npy')  # Loading the data\n",
    "target = np.load('target.npy')  # Loading the target labels"
   ]
  },
  {
   "cell_type": "markdown",
   "metadata": {},
   "source": [
    "## Building the CNN Model"
   ]
  },
  {
   "cell_type": "code",
   "execution_count": 3,
   "metadata": {},
   "outputs": [],
   "source": [
    "model = Sequential()\n",
    "\n",
    "model.add(Conv2D(200, (3,3), input_shape=data.shape[1:]))  # First convolutional layer with 200 filters of size 3x3\n",
    "model.add(Activation('relu'))  # Activation layer\n",
    "model.add(MaxPooling2D(pool_size=(2,2)))  # Max pooling layer\n",
    "\n",
    "model.add(Conv2D(100, (3,3)))  # Second convolutional layer with 100 filters of size 3x3\n",
    "model.add(Activation('relu'))  # Activation layer\n",
    "model.add(MaxPooling2D(pool_size=(2,2)))  # Max pooling layer\n",
    "\n",
    "model.add(Flatten())  # Flatten the output\n",
    "model.add(Dropout(0.5))  # Dropout layer to prevent overfitting\n",
    "\n",
    "model.add(Dense(50, activation='relu'))  # Dense layer with 50 neurons\n",
    "model.add(Dense(2, activation='softmax'))  # Output layer with 2 neurons (for 2 classes)"
   ]
  },
  {
   "cell_type": "markdown",
   "metadata": {},
   "source": [
    "## Compiling the Model"
   ]
  },
  {
   "cell_type": "code",
   "execution_count": 4,
   "metadata": {},
   "outputs": [],
   "source": [
    "model.compile(loss='categorical_crossentropy', optimizer='adam', metrics=['accuracy'])  # Compile the model"
   ]
  },
  {
   "cell_type": "markdown",
   "metadata": {},
   "source": [
    "## Splitting the Data into Training and Testing Sets"
   ]
  },
  {
   "cell_type": "code",
   "execution_count": 5,
   "metadata": {},
   "outputs": [],
   "source": [
    "train_data, test_data, train_target, test_target = train_test_split(data, target, test_size=0.1)  # 10% data for testing"
   ]
  },
  {
   "cell_type": "markdown",
   "metadata": {},
   "source": [
    "## Training the Model"
   ]
  },
  {
   "cell_type": "code",
   "execution_count": 6,
   "metadata": {},
   "outputs": [
    {
     "name": "stdout",
     "output_type": "stream",
     "text": [
      "Epoch 1/20\n",
      "31/31 [==============================] - ETA: 0s - loss: 0.7320 - accuracy: 0.5475"
     ]
    },
    {
     "name": "stderr",
     "output_type": "stream",
     "text": [
      "WARNING:absl:Found untraced functions such as _jit_compiled_convolution_op, _jit_compiled_convolution_op while saving (showing 2 of 2). These functions will not be directly callable after loading.\n"
     ]
    },
    {
     "name": "stdout",
     "output_type": "stream",
     "text": [
      "INFO:tensorflow:Assets written to: model-001.model\\assets\n"
     ]
    },
    {
     "name": "stderr",
     "output_type": "stream",
     "text": [
      "INFO:tensorflow:Assets written to: model-001.model\\assets\n"
     ]
    },
    {
     "name": "stdout",
     "output_type": "stream",
     "text": [
      "31/31 [==============================] - 204s 7s/step - loss: 0.7320 - accuracy: 0.5475 - val_loss: 0.6125 - val_accuracy: 0.7097\n",
      "Epoch 2/20\n",
      "31/31 [==============================] - ETA: 0s - loss: 0.5261 - accuracy: 0.7374"
     ]
    },
    {
     "name": "stderr",
     "output_type": "stream",
     "text": [
      "WARNING:absl:Found untraced functions such as _jit_compiled_convolution_op, _jit_compiled_convolution_op while saving (showing 2 of 2). These functions will not be directly callable after loading.\n"
     ]
    },
    {
     "name": "stdout",
     "output_type": "stream",
     "text": [
      "INFO:tensorflow:Assets written to: model-002.model\\assets\n"
     ]
    },
    {
     "name": "stderr",
     "output_type": "stream",
     "text": [
      "INFO:tensorflow:Assets written to: model-002.model\\assets\n"
     ]
    },
    {
     "name": "stdout",
     "output_type": "stream",
     "text": [
      "31/31 [==============================] - 199s 6s/step - loss: 0.5261 - accuracy: 0.7374 - val_loss: 0.3844 - val_accuracy: 0.8508\n",
      "Epoch 3/20\n",
      "31/31 [==============================] - ETA: 0s - loss: 0.3920 - accuracy: 0.8242"
     ]
    },
    {
     "name": "stderr",
     "output_type": "stream",
     "text": [
      "WARNING:absl:Found untraced functions such as _jit_compiled_convolution_op, _jit_compiled_convolution_op while saving (showing 2 of 2). These functions will not be directly callable after loading.\n"
     ]
    },
    {
     "name": "stdout",
     "output_type": "stream",
     "text": [
      "INFO:tensorflow:Assets written to: model-003.model\\assets\n"
     ]
    },
    {
     "name": "stderr",
     "output_type": "stream",
     "text": [
      "INFO:tensorflow:Assets written to: model-003.model\\assets\n"
     ]
    },
    {
     "name": "stdout",
     "output_type": "stream",
     "text": [
      "31/31 [==============================] - 217s 7s/step - loss: 0.3920 - accuracy: 0.8242 - val_loss: 0.3798 - val_accuracy: 0.8024\n",
      "Epoch 4/20\n",
      "31/31 [==============================] - ETA: 0s - loss: 0.2679 - accuracy: 0.8960"
     ]
    },
    {
     "name": "stderr",
     "output_type": "stream",
     "text": [
      "WARNING:absl:Found untraced functions such as _jit_compiled_convolution_op, _jit_compiled_convolution_op while saving (showing 2 of 2). These functions will not be directly callable after loading.\n"
     ]
    },
    {
     "name": "stdout",
     "output_type": "stream",
     "text": [
      "INFO:tensorflow:Assets written to: model-004.model\\assets\n"
     ]
    },
    {
     "name": "stderr",
     "output_type": "stream",
     "text": [
      "INFO:tensorflow:Assets written to: model-004.model\\assets\n"
     ]
    },
    {
     "name": "stdout",
     "output_type": "stream",
     "text": [
      "31/31 [==============================] - 254s 8s/step - loss: 0.2679 - accuracy: 0.8960 - val_loss: 0.3652 - val_accuracy: 0.8468\n",
      "Epoch 5/20\n",
      "31/31 [==============================] - ETA: 0s - loss: 0.2075 - accuracy: 0.9273"
     ]
    },
    {
     "name": "stderr",
     "output_type": "stream",
     "text": [
      "WARNING:absl:Found untraced functions such as _jit_compiled_convolution_op, _jit_compiled_convolution_op while saving (showing 2 of 2). These functions will not be directly callable after loading.\n"
     ]
    },
    {
     "name": "stdout",
     "output_type": "stream",
     "text": [
      "INFO:tensorflow:Assets written to: model-005.model\\assets\n"
     ]
    },
    {
     "name": "stderr",
     "output_type": "stream",
     "text": [
      "INFO:tensorflow:Assets written to: model-005.model\\assets\n"
     ]
    },
    {
     "name": "stdout",
     "output_type": "stream",
     "text": [
      "31/31 [==============================] - 220s 7s/step - loss: 0.2075 - accuracy: 0.9273 - val_loss: 0.2209 - val_accuracy: 0.9194\n",
      "Epoch 6/20\n",
      "31/31 [==============================] - ETA: 0s - loss: 0.1515 - accuracy: 0.9525"
     ]
    },
    {
     "name": "stderr",
     "output_type": "stream",
     "text": [
      "WARNING:absl:Found untraced functions such as _jit_compiled_convolution_op, _jit_compiled_convolution_op while saving (showing 2 of 2). These functions will not be directly callable after loading.\n"
     ]
    },
    {
     "name": "stdout",
     "output_type": "stream",
     "text": [
      "INFO:tensorflow:Assets written to: model-006.model\\assets\n"
     ]
    },
    {
     "name": "stderr",
     "output_type": "stream",
     "text": [
      "INFO:tensorflow:Assets written to: model-006.model\\assets\n"
     ]
    },
    {
     "name": "stdout",
     "output_type": "stream",
     "text": [
      "31/31 [==============================] - 218s 7s/step - loss: 0.1515 - accuracy: 0.9525 - val_loss: 0.1756 - val_accuracy: 0.9274\n",
      "Epoch 7/20\n",
      "31/31 [==============================] - ETA: 0s - loss: 0.1371 - accuracy: 0.9505"
     ]
    },
    {
     "name": "stderr",
     "output_type": "stream",
     "text": [
      "WARNING:absl:Found untraced functions such as _jit_compiled_convolution_op, _jit_compiled_convolution_op while saving (showing 2 of 2). These functions will not be directly callable after loading.\n"
     ]
    },
    {
     "name": "stdout",
     "output_type": "stream",
     "text": [
      "INFO:tensorflow:Assets written to: model-007.model\\assets\n"
     ]
    },
    {
     "name": "stderr",
     "output_type": "stream",
     "text": [
      "INFO:tensorflow:Assets written to: model-007.model\\assets\n"
     ]
    },
    {
     "name": "stdout",
     "output_type": "stream",
     "text": [
      "31/31 [==============================] - 214s 7s/step - loss: 0.1371 - accuracy: 0.9505 - val_loss: 0.1576 - val_accuracy: 0.9395\n",
      "Epoch 8/20\n",
      "31/31 [==============================] - 201s 6s/step - loss: 0.1391 - accuracy: 0.9424 - val_loss: 0.3160 - val_accuracy: 0.8871\n",
      "Epoch 9/20\n",
      "31/31 [==============================] - ETA: 0s - loss: 0.1260 - accuracy: 0.9556"
     ]
    },
    {
     "name": "stderr",
     "output_type": "stream",
     "text": [
      "WARNING:absl:Found untraced functions such as _jit_compiled_convolution_op, _jit_compiled_convolution_op while saving (showing 2 of 2). These functions will not be directly callable after loading.\n"
     ]
    },
    {
     "name": "stdout",
     "output_type": "stream",
     "text": [
      "INFO:tensorflow:Assets written to: model-009.model\\assets\n"
     ]
    },
    {
     "name": "stderr",
     "output_type": "stream",
     "text": [
      "INFO:tensorflow:Assets written to: model-009.model\\assets\n"
     ]
    },
    {
     "name": "stdout",
     "output_type": "stream",
     "text": [
      "31/31 [==============================] - 207s 7s/step - loss: 0.1260 - accuracy: 0.9556 - val_loss: 0.1192 - val_accuracy: 0.9677\n",
      "Epoch 10/20\n",
      "31/31 [==============================] - ETA: 0s - loss: 0.0823 - accuracy: 0.9646"
     ]
    },
    {
     "name": "stderr",
     "output_type": "stream",
     "text": [
      "WARNING:absl:Found untraced functions such as _jit_compiled_convolution_op, _jit_compiled_convolution_op while saving (showing 2 of 2). These functions will not be directly callable after loading.\n"
     ]
    },
    {
     "name": "stdout",
     "output_type": "stream",
     "text": [
      "INFO:tensorflow:Assets written to: model-010.model\\assets\n"
     ]
    },
    {
     "name": "stderr",
     "output_type": "stream",
     "text": [
      "INFO:tensorflow:Assets written to: model-010.model\\assets\n"
     ]
    },
    {
     "name": "stdout",
     "output_type": "stream",
     "text": [
      "31/31 [==============================] - 208s 7s/step - loss: 0.0823 - accuracy: 0.9646 - val_loss: 0.1150 - val_accuracy: 0.9637\n",
      "Epoch 11/20\n",
      "31/31 [==============================] - 205s 7s/step - loss: 0.0875 - accuracy: 0.9697 - val_loss: 0.1320 - val_accuracy: 0.9516\n",
      "Epoch 12/20\n",
      "31/31 [==============================] - 193s 6s/step - loss: 0.0895 - accuracy: 0.9667 - val_loss: 0.1524 - val_accuracy: 0.9476\n",
      "Epoch 13/20\n",
      "31/31 [==============================] - ETA: 0s - loss: 0.0511 - accuracy: 0.9808"
     ]
    },
    {
     "name": "stderr",
     "output_type": "stream",
     "text": [
      "WARNING:absl:Found untraced functions such as _jit_compiled_convolution_op, _jit_compiled_convolution_op while saving (showing 2 of 2). These functions will not be directly callable after loading.\n"
     ]
    },
    {
     "name": "stdout",
     "output_type": "stream",
     "text": [
      "INFO:tensorflow:Assets written to: model-013.model\\assets\n"
     ]
    },
    {
     "name": "stderr",
     "output_type": "stream",
     "text": [
      "INFO:tensorflow:Assets written to: model-013.model\\assets\n"
     ]
    },
    {
     "name": "stdout",
     "output_type": "stream",
     "text": [
      "31/31 [==============================] - 177s 6s/step - loss: 0.0511 - accuracy: 0.9808 - val_loss: 0.1105 - val_accuracy: 0.9597\n",
      "Epoch 14/20\n",
      "31/31 [==============================] - 171s 6s/step - loss: 0.0544 - accuracy: 0.9788 - val_loss: 0.1287 - val_accuracy: 0.9556\n",
      "Epoch 15/20\n",
      "31/31 [==============================] - ETA: 0s - loss: 0.0479 - accuracy: 0.9788"
     ]
    },
    {
     "name": "stderr",
     "output_type": "stream",
     "text": [
      "WARNING:absl:Found untraced functions such as _jit_compiled_convolution_op, _jit_compiled_convolution_op while saving (showing 2 of 2). These functions will not be directly callable after loading.\n"
     ]
    },
    {
     "name": "stdout",
     "output_type": "stream",
     "text": [
      "INFO:tensorflow:Assets written to: model-015.model\\assets\n"
     ]
    },
    {
     "name": "stderr",
     "output_type": "stream",
     "text": [
      "INFO:tensorflow:Assets written to: model-015.model\\assets\n"
     ]
    },
    {
     "name": "stdout",
     "output_type": "stream",
     "text": [
      "31/31 [==============================] - 185s 6s/step - loss: 0.0479 - accuracy: 0.9788 - val_loss: 0.1077 - val_accuracy: 0.9637\n",
      "Epoch 16/20\n",
      "31/31 [==============================] - 171s 6s/step - loss: 0.0449 - accuracy: 0.9859 - val_loss: 0.1757 - val_accuracy: 0.9476\n",
      "Epoch 17/20\n",
      "31/31 [==============================] - 187s 6s/step - loss: 0.0435 - accuracy: 0.9828 - val_loss: 0.1263 - val_accuracy: 0.9637\n",
      "Epoch 18/20\n",
      "31/31 [==============================] - 208s 7s/step - loss: 0.0313 - accuracy: 0.9909 - val_loss: 0.1253 - val_accuracy: 0.9758\n",
      "Epoch 19/20\n",
      "31/31 [==============================] - 217s 7s/step - loss: 0.0447 - accuracy: 0.9859 - val_loss: 0.1184 - val_accuracy: 0.9677\n",
      "Epoch 20/20\n",
      "31/31 [==============================] - 221s 7s/step - loss: 0.0307 - accuracy: 0.9919 - val_loss: 0.1443 - val_accuracy: 0.9476\n"
     ]
    }
   ],
   "source": [
    "checkpoint = ModelCheckpoint('model-{epoch:03d}.model', monitor='val_loss', verbose=0, save_best_only=True, mode='auto')  # Save the best model after every epoch\n",
    "\n",
    "history = model.fit(train_data, train_target, epochs=20, callbacks=[checkpoint], validation_split=0.2)  # Train the model"
   ]
  },
  {
   "cell_type": "markdown",
   "metadata": {},
   "source": [
    "## Plotting Training and Validation Loss"
   ]
  },
  {
   "cell_type": "code",
   "execution_count": 7,
   "metadata": {},
   "outputs": [
    {
     "data": {
      "image/png": "[encoded data removed]",
      "text/plain": [
       "<Figure size 640x480 with 1 Axes>"
      ]
     },
     "metadata": {},
     "output_type": "display_data"
    }
   ],
   "source": [
    "plt.plot(history.history['loss'], 'r', label='training loss')  # Plot training loss\n",
    "plt.plot(history.history['val_loss'], label='validation loss')  # Plot validation loss\n",
    "plt.xlabel('# epochs')\n",
    "plt.ylabel('loss')\n",
    "plt.legend()\n",
    "plt.show()"
   ]
  },
  {
   "cell_type": "markdown",
   "metadata": {},
   "source": [
    "## Plotting Training and Validation Accuracy"
   ]
  },
  {
   "cell_type": "code",
   "execution_count": 8,
   "metadata": {},
   "outputs": [
    {
     "data": {
      "image/png": "[encoded data removed]",
      "text/plain": [
       "<Figure size 640x480 with 1 Axes>"
      ]
     },
     "metadata": {},
     "output_type": "display_data"
    }
   ],
   "source": [
    "plt.plot(history.history['accuracy'], 'r', label='training accuracy')  # Plot training accuracy\n",
    "plt.plot(history.history['val_accuracy'], label='validation accuracy')  # Plot validation accuracy\n",
    "plt.xlabel('# epochs')\n",
    "plt.ylabel('accuracy')\n",
    "plt.legend()\n",
    "plt.show()"
   ]
  },
  {
   "cell_type": "markdown",
   "metadata": {},
   "source": [
    "## Evaluating the Model on Test Data"
   ]
  },
  {
   "cell_type": "code",
   "execution_count": 9,
   "metadata": {},
   "outputs": [
    {
     "name": "stdout",
     "output_type": "stream",
     "text": [
      "5/5 [==============================] - 13s 2s/step - loss: 0.0837 - accuracy: 0.9565\n",
      "Test Loss: 0.08367648720741272\n",
      "Test Accuracy: 0.95652174949646\n"
     ]
    }
   ],
   "source": [
    "evaluation = model.evaluate(test_data, test_target)  # Evaluate the model on test data\n",
    "print(\"Test Loss:\", evaluation[0])\n",
    "print(\"Test Accuracy:\", evaluation[1])"
   ]
  }
 ],
 "metadata": {
  "kernelspec": {
   "display_name": "Python 3",
   "language": "python",
   "name": "python3"
  },
  "language_info": {
   "codemirror_mode": {
    "name": "ipython",
    "version": 3
   },
   "file_extension": ".py",
   "mimetype": "text/x-python",
   "name": "python",
   "nbconvert_exporter": "python",
   "pygments_lexer": "ipython3",
   "version": "3.8.0"
  }
 },
 "nbformat": 4,
 "nbformat_minor": 2
}
